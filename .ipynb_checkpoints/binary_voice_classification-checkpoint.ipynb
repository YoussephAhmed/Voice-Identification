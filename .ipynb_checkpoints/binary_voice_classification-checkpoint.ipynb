{
 "cells": [
  {
   "cell_type": "markdown",
   "metadata": {},
   "source": [
    "# Imports"
   ]
  },
  {
   "cell_type": "code",
   "execution_count": 1,
   "metadata": {},
   "outputs": [],
   "source": [
    "import IPython.display as ipd\n",
    "import matplotlib.pyplot as plt\n",
    "# % pylab inline\n",
    "import os\n",
    "import pandas as pd\n",
    "import librosa\n",
    "import glob \n",
    "import librosa.display\n",
    "import random\n",
    "\n",
    "from sklearn.preprocessing import StandardScaler\n",
    "from sklearn.model_selection import train_test_split\n",
    "\n",
    "from keras.utils.np_utils import to_categorical\n",
    "\n",
    "import numpy as np\n",
    "from keras.models import Sequential\n",
    "from keras.layers import Dense, Dropout, Activation, Flatten\n",
    "from keras.layers import Convolution2D, MaxPooling2D\n",
    "from keras.optimizers import Adam\n",
    "from keras.utils import np_utils\n",
    "from sklearn import metrics \n",
    "\n",
    "from sklearn.datasets import make_regression\n",
    "from sklearn.preprocessing import StandardScaler\n",
    "from sklearn import metrics\n",
    "from sklearn.model_selection import train_test_split, GridSearchCV\n",
    "\n",
    "from tensorflow.keras.models import Sequential\n",
    "from tensorflow.keras.layers import Dense, Dropout \n",
    "from tensorflow.keras.wrappers.scikit_learn import KerasRegressor\n",
    "\n",
    "from keras.callbacks import EarlyStopping\n",
    "\n",
    "from keras import regularizers\n",
    "\n",
    "from sklearn.preprocessing import LabelEncoder\n",
    "\n",
    "from datetime import datetime\n",
    "\n",
    "import os\n",
    "\n",
    "from tqdm import tqdm"
   ]
  },
  {
   "cell_type": "code",
   "execution_count": 2,
   "metadata": {},
   "outputs": [
    {
     "name": "stdout",
     "output_type": "stream",
     "text": [
      "Done\n"
     ]
    }
   ],
   "source": [
    "#list the files\n",
    "#filelist = os.listdir('all_data')\n",
    "\n",
    "from_directory_base = 'data\\\\'\n",
    "filelist = os.listdir(from_directory_base)\n",
    "\n",
    "files_names = []\n",
    "full_path = []\n",
    "\n",
    "for x in filelist:\n",
    "    filelist2 = os.listdir(from_directory_base+\"\\\\\"+x)\n",
    "    \n",
    "    for y in filelist2:\n",
    "        files_names.append(y)\n",
    "        full_path.append(from_directory_base+x+\"\\\\\"+y)\n",
    "        \n",
    "print(\"Done\")\n"
   ]
  },
  {
   "cell_type": "code",
   "execution_count": 3,
   "metadata": {
    "scrolled": true
   },
   "outputs": [],
   "source": [
    "no_of_data = len(files_names)"
   ]
  },
  {
   "cell_type": "code",
   "execution_count": 4,
   "metadata": {},
   "outputs": [
    {
     "name": "stdout",
     "output_type": "stream",
     "text": [
      "83\n"
     ]
    }
   ],
   "source": [
    "print(no_of_data)"
   ]
  },
  {
   "cell_type": "code",
   "execution_count": 5,
   "metadata": {},
   "outputs": [
    {
     "name": "stdout",
     "output_type": "stream",
     "text": [
      "['0-0.m4a', '0-1.m4a', '0-10.m4a', '0-11.m4a', '0-12.m4a', '0-13.m4a', '0-14.m4a', '0-15.m4a', '0-16.m4a', '0-17.m4a', '0-18.m4a', '0-19.m4a', '0-2.m4a', '0-20.m4a', '0-21.m4a', '0-22.m4a', '0-23.m4a', '0-24.m4a', '0-25.m4a', '0-26.m4a', '0-27.m4a', '0-28.m4a', '0-29.m4a', '0-3.m4a', '0-30.m4a', '0-31.m4a', '0-32.m4a', '0-33.m4a', '0-34.m4a', '0-35.m4a', '0-36.m4a', '0-37.m4a', '0-38.m4a', '0-39.m4a', '0-4.m4a', '0-40.m4a', '0-41.m4a', '0-42.m4a', '0-43.m4a', '0-44.m4a', '0-5.m4a', '0-6.m4a', '0-7.m4a', '0-8.m4a', '0-9.m4a', '1-0.m4a', '1-1.m4a', '1-10.m4a', '1-11.m4a', '1-12.m4a', '1-13.m4a', '1-14.m4a', '1-15.m4a', '1-16.m4a', '1-17.m4a', '1-18.m4a', '1-19.m4a', '1-2.m4a', '1-20.m4a', '1-21.m4a', '1-22.m4a', '1-23.m4a', '1-24.m4a', '1-25.m4a', '1-26.m4a', '1-27.m4a', '1-28.m4a', '1-29.m4a', '1-3.m4a', '1-30.m4a', '1-31.m4a', '1-32.m4a', '1-33.m4a', '1-34.m4a', '1-35.m4a', '1-36.m4a', '1-37.m4a', '1-4.m4a', '1-5.m4a', '1-6.m4a', '1-7.m4a', '1-8.m4a', '1-9.m4a']\n"
     ]
    }
   ],
   "source": [
    "print(files_names)"
   ]
  },
  {
   "cell_type": "code",
   "execution_count": 6,
   "metadata": {},
   "outputs": [],
   "source": [
    "filter_filelist = []\n",
    "\n",
    "for x in files_names:\n",
    "    if \".txt\" not in x:\n",
    "        filter_filelist.append(x)\n"
   ]
  },
  {
   "cell_type": "code",
   "execution_count": 7,
   "metadata": {},
   "outputs": [],
   "source": [
    "filter_filelist_path = []\n",
    "\n",
    "for x in full_path:\n",
    "    if \".txt\" not in x:\n",
    "        filter_filelist_path.append(x)\n"
   ]
  },
  {
   "cell_type": "code",
   "execution_count": 8,
   "metadata": {},
   "outputs": [
    {
     "name": "stdout",
     "output_type": "stream",
     "text": [
      "False\n"
     ]
    }
   ],
   "source": [
    "print((\".txt\" not in \"103-1240.trans.txt\" ))"
   ]
  },
  {
   "cell_type": "code",
   "execution_count": 9,
   "metadata": {},
   "outputs": [
    {
     "name": "stdout",
     "output_type": "stream",
     "text": [
      "83\n"
     ]
    }
   ],
   "source": [
    "print(len(filter_filelist))"
   ]
  },
  {
   "cell_type": "code",
   "execution_count": 10,
   "metadata": {},
   "outputs": [
    {
     "name": "stdout",
     "output_type": "stream",
     "text": [
      "['0-0.m4a', '0-1.m4a', '0-10.m4a', '0-11.m4a', '0-12.m4a', '0-13.m4a', '0-14.m4a', '0-15.m4a', '0-16.m4a', '0-17.m4a', '0-18.m4a', '0-19.m4a', '0-2.m4a', '0-20.m4a', '0-21.m4a', '0-22.m4a', '0-23.m4a', '0-24.m4a', '0-25.m4a', '0-26.m4a', '0-27.m4a', '0-28.m4a', '0-29.m4a', '0-3.m4a', '0-30.m4a', '0-31.m4a', '0-32.m4a', '0-33.m4a', '0-34.m4a', '0-35.m4a', '0-36.m4a', '0-37.m4a', '0-38.m4a', '0-39.m4a', '0-4.m4a', '0-40.m4a', '0-41.m4a', '0-42.m4a', '0-43.m4a', '0-44.m4a', '0-5.m4a', '0-6.m4a', '0-7.m4a', '0-8.m4a', '0-9.m4a', '1-0.m4a', '1-1.m4a', '1-10.m4a', '1-11.m4a', '1-12.m4a', '1-13.m4a', '1-14.m4a', '1-15.m4a', '1-16.m4a', '1-17.m4a', '1-18.m4a', '1-19.m4a', '1-2.m4a', '1-20.m4a', '1-21.m4a', '1-22.m4a', '1-23.m4a', '1-24.m4a', '1-25.m4a', '1-26.m4a', '1-27.m4a', '1-28.m4a', '1-29.m4a', '1-3.m4a', '1-30.m4a', '1-31.m4a', '1-32.m4a', '1-33.m4a', '1-34.m4a', '1-35.m4a', '1-36.m4a', '1-37.m4a', '1-4.m4a', '1-5.m4a', '1-6.m4a', '1-7.m4a', '1-8.m4a', '1-9.m4a']\n"
     ]
    }
   ],
   "source": [
    "print(filter_filelist)"
   ]
  },
  {
   "cell_type": "code",
   "execution_count": 11,
   "metadata": {},
   "outputs": [],
   "source": [
    "X = []\n",
    "Y = []\n",
    "\n",
    "for data in filter_filelist:\n",
    "    name = data.split(sep=\"-\")\n",
    "    X.append(data)\n",
    "    Y.append(name[0])\n",
    "    "
   ]
  },
  {
   "cell_type": "code",
   "execution_count": 12,
   "metadata": {},
   "outputs": [
    {
     "name": "stdout",
     "output_type": "stream",
     "text": [
      "['0-0.m4a', '0-1.m4a', '0-10.m4a', '0-11.m4a', '0-12.m4a', '0-13.m4a', '0-14.m4a', '0-15.m4a', '0-16.m4a', '0-17.m4a', '0-18.m4a', '0-19.m4a', '0-2.m4a', '0-20.m4a', '0-21.m4a', '0-22.m4a', '0-23.m4a', '0-24.m4a', '0-25.m4a', '0-26.m4a', '0-27.m4a', '0-28.m4a', '0-29.m4a', '0-3.m4a', '0-30.m4a', '0-31.m4a', '0-32.m4a', '0-33.m4a', '0-34.m4a', '0-35.m4a', '0-36.m4a', '0-37.m4a', '0-38.m4a', '0-39.m4a', '0-4.m4a', '0-40.m4a', '0-41.m4a', '0-42.m4a', '0-43.m4a', '0-44.m4a', '0-5.m4a', '0-6.m4a', '0-7.m4a', '0-8.m4a', '0-9.m4a', '1-0.m4a', '1-1.m4a', '1-10.m4a', '1-11.m4a', '1-12.m4a', '1-13.m4a', '1-14.m4a', '1-15.m4a', '1-16.m4a', '1-17.m4a', '1-18.m4a', '1-19.m4a', '1-2.m4a', '1-20.m4a', '1-21.m4a', '1-22.m4a', '1-23.m4a', '1-24.m4a', '1-25.m4a', '1-26.m4a', '1-27.m4a', '1-28.m4a', '1-29.m4a', '1-3.m4a', '1-30.m4a', '1-31.m4a', '1-32.m4a', '1-33.m4a', '1-34.m4a', '1-35.m4a', '1-36.m4a', '1-37.m4a', '1-4.m4a', '1-5.m4a', '1-6.m4a', '1-7.m4a', '1-8.m4a', '1-9.m4a']\n"
     ]
    }
   ],
   "source": [
    "print(X)"
   ]
  },
  {
   "cell_type": "code",
   "execution_count": 13,
   "metadata": {},
   "outputs": [
    {
     "name": "stdout",
     "output_type": "stream",
     "text": [
      "['0', '0', '0', '0', '0', '0', '0', '0', '0', '0', '0', '0', '0', '0', '0', '0', '0', '0', '0', '0', '0', '0', '0', '0', '0', '0', '0', '0', '0', '0', '0', '0', '0', '0', '0', '0', '0', '0', '0', '0', '0', '0', '0', '0', '0', '1', '1', '1', '1', '1', '1', '1', '1', '1', '1', '1', '1', '1', '1', '1', '1', '1', '1', '1', '1', '1', '1', '1', '1', '1', '1', '1', '1', '1', '1', '1', '1', '1', '1', '1', '1', '1', '1']\n"
     ]
    }
   ],
   "source": [
    "print(Y)"
   ]
  },
  {
   "cell_type": "markdown",
   "metadata": {},
   "source": [
    "\n",
    "\n",
    "We are going to do an split of train, validation and test with 70% train, 20% validation and 10% for test. We check that the randomized splits have balanced classes\n"
   ]
  },
  {
   "cell_type": "code",
   "execution_count": 14,
   "metadata": {},
   "outputs": [
    {
     "name": "stdout",
     "output_type": "stream",
     "text": [
      "['data\\\\0\\\\0-0.m4a', 'data\\\\0\\\\0-1.m4a', 'data\\\\0\\\\0-10.m4a', 'data\\\\0\\\\0-11.m4a', 'data\\\\0\\\\0-12.m4a', 'data\\\\0\\\\0-13.m4a', 'data\\\\0\\\\0-14.m4a', 'data\\\\0\\\\0-15.m4a', 'data\\\\0\\\\0-16.m4a', 'data\\\\0\\\\0-17.m4a', 'data\\\\0\\\\0-18.m4a', 'data\\\\0\\\\0-19.m4a', 'data\\\\0\\\\0-2.m4a', 'data\\\\0\\\\0-20.m4a', 'data\\\\0\\\\0-21.m4a', 'data\\\\0\\\\0-22.m4a', 'data\\\\0\\\\0-23.m4a', 'data\\\\0\\\\0-24.m4a', 'data\\\\0\\\\0-25.m4a', 'data\\\\0\\\\0-26.m4a', 'data\\\\0\\\\0-27.m4a', 'data\\\\0\\\\0-28.m4a', 'data\\\\0\\\\0-29.m4a', 'data\\\\0\\\\0-3.m4a', 'data\\\\0\\\\0-30.m4a', 'data\\\\0\\\\0-31.m4a', 'data\\\\0\\\\0-32.m4a', 'data\\\\0\\\\0-33.m4a', 'data\\\\0\\\\0-34.m4a', 'data\\\\0\\\\0-35.m4a', 'data\\\\0\\\\0-36.m4a', 'data\\\\0\\\\0-37.m4a', 'data\\\\0\\\\0-38.m4a', 'data\\\\0\\\\0-39.m4a', 'data\\\\0\\\\0-4.m4a', 'data\\\\0\\\\0-40.m4a', 'data\\\\0\\\\0-41.m4a', 'data\\\\0\\\\0-42.m4a', 'data\\\\0\\\\0-43.m4a', 'data\\\\0\\\\0-44.m4a', 'data\\\\0\\\\0-5.m4a', 'data\\\\0\\\\0-6.m4a', 'data\\\\0\\\\0-7.m4a', 'data\\\\0\\\\0-8.m4a', 'data\\\\0\\\\0-9.m4a', 'data\\\\1\\\\1-0.m4a', 'data\\\\1\\\\1-1.m4a', 'data\\\\1\\\\1-10.m4a', 'data\\\\1\\\\1-11.m4a', 'data\\\\1\\\\1-12.m4a', 'data\\\\1\\\\1-13.m4a', 'data\\\\1\\\\1-14.m4a', 'data\\\\1\\\\1-15.m4a', 'data\\\\1\\\\1-16.m4a', 'data\\\\1\\\\1-17.m4a', 'data\\\\1\\\\1-18.m4a', 'data\\\\1\\\\1-19.m4a', 'data\\\\1\\\\1-2.m4a', 'data\\\\1\\\\1-20.m4a', 'data\\\\1\\\\1-21.m4a', 'data\\\\1\\\\1-22.m4a', 'data\\\\1\\\\1-23.m4a', 'data\\\\1\\\\1-24.m4a', 'data\\\\1\\\\1-25.m4a', 'data\\\\1\\\\1-26.m4a', 'data\\\\1\\\\1-27.m4a', 'data\\\\1\\\\1-28.m4a', 'data\\\\1\\\\1-29.m4a', 'data\\\\1\\\\1-3.m4a', 'data\\\\1\\\\1-30.m4a', 'data\\\\1\\\\1-31.m4a', 'data\\\\1\\\\1-32.m4a', 'data\\\\1\\\\1-33.m4a', 'data\\\\1\\\\1-34.m4a', 'data\\\\1\\\\1-35.m4a', 'data\\\\1\\\\1-36.m4a', 'data\\\\1\\\\1-37.m4a', 'data\\\\1\\\\1-4.m4a', 'data\\\\1\\\\1-5.m4a', 'data\\\\1\\\\1-6.m4a', 'data\\\\1\\\\1-7.m4a', 'data\\\\1\\\\1-8.m4a', 'data\\\\1\\\\1-9.m4a']\n"
     ]
    }
   ],
   "source": [
    "print(full_path)"
   ]
  },
  {
   "cell_type": "markdown",
   "metadata": {},
   "source": [
    "Function to extract the features and label for each sound file by iterating through every row of the dataframe"
   ]
  },
  {
   "cell_type": "code",
   "execution_count": 15,
   "metadata": {},
   "outputs": [],
   "source": [
    "# Although this function was modified and many parameteres were explored with, most of it\n",
    "# came from Source 8 (sources in the READ.ME)\n",
    "\n",
    "def extract_features(full_path_name):\n",
    "    \n",
    "    # Sets the name to be the path to where the file is in my computer\n",
    "    #file_name = os.path.join(os.path.abspath('all_data')+'/'+str(files.file))\n",
    "    \n",
    "    file_name = os.path.join(full_path_name)\n",
    "    \n",
    "    # Loads the audio file as a floating point time series and assigns the default sample rate\n",
    "    # Sample rate is set to 22050 by default\n",
    "    X, sample_rate = librosa.load(file_name, res_type='kaiser_fast') \n",
    "    \n",
    "    # Generate Mel-frequency cepstral coefficients (MFCCs) from a time series \n",
    "    mfccs = np.mean(librosa.feature.mfcc(y=X, sr=sample_rate, n_mfcc=40).T,axis=0)\n",
    "\n",
    "    # Generates a Short-time Fourier transform (STFT) to use in the chroma_stft\n",
    "    stft = np.abs(librosa.stft(X))\n",
    "\n",
    "    # Computes a chromagram from a waveform or power spectrogram.\n",
    "    chroma = np.mean(librosa.feature.chroma_stft(S=stft, sr=sample_rate).T,axis=0)\n",
    "\n",
    "    # Computes a mel-scaled spectrogram.\n",
    "    mel = np.mean(librosa.feature.melspectrogram(X, sr=sample_rate).T,axis=0)\n",
    "\n",
    "    # Computes spectral contrast\n",
    "    contrast = np.mean(librosa.feature.spectral_contrast(S=stft, sr=sample_rate).T,axis=0)\n",
    "\n",
    "    # Computes the tonal centroid features (tonnetz)\n",
    "    tonnetz = np.mean(librosa.feature.tonnetz(y=librosa.effects.harmonic(X),\n",
    "    sr=sample_rate).T,axis=0)\n",
    "        \n",
    "    \n",
    "    # We add also the classes of each file as a label at the end\n",
    "    #label = files.label\n",
    "\n",
    "    return mfccs, chroma, mel, contrast, tonnetz"
   ]
  },
  {
   "cell_type": "code",
   "execution_count": 16,
   "metadata": {},
   "outputs": [
    {
     "name": "stderr",
     "output_type": "stream",
     "text": [
      "  0%|                                                                                           | 0/83 [00:00<?, ?it/s]c:\\users\\ai\\appdata\\local\\programs\\python\\python38\\lib\\site-packages\\librosa\\core\\audio.py:162: UserWarning: PySoundFile failed. Trying audioread instead.\n",
      "  warnings.warn(\"PySoundFile failed. Trying audioread instead.\")\n",
      "  1%|█                                                                                  | 1/83 [00:03<04:09,  3.04s/it]c:\\users\\ai\\appdata\\local\\programs\\python\\python38\\lib\\site-packages\\librosa\\core\\audio.py:162: UserWarning: PySoundFile failed. Trying audioread instead.\n",
      "  warnings.warn(\"PySoundFile failed. Trying audioread instead.\")\n",
      " 52%|██████████████████████████████████████████▍                                       | 43/83 [00:39<00:34,  1.17it/s]c:\\users\\ai\\appdata\\local\\programs\\python\\python38\\lib\\site-packages\\librosa\\core\\spectrum.py:222: UserWarning: n_fft=1024 is too small for input signal of length=857\n",
      "  warnings.warn(\n",
      " 71%|██████████████████████████████████████████████████████████▎                       | 59/83 [00:51<00:16,  1.42it/s]c:\\users\\ai\\appdata\\local\\programs\\python\\python38\\lib\\site-packages\\librosa\\core\\spectrum.py:222: UserWarning: n_fft=1024 is too small for input signal of length=824\n",
      "  warnings.warn(\n",
      "c:\\users\\ai\\appdata\\local\\programs\\python\\python38\\lib\\site-packages\\librosa\\core\\spectrum.py:222: UserWarning: n_fft=1024 is too small for input signal of length=412\n",
      "  warnings.warn(\n",
      "100%|██████████████████████████████████████████████████████████████████████████████████| 83/83 [01:09<00:00,  1.20it/s]"
     ]
    },
    {
     "name": "stdout",
     "output_type": "stream",
     "text": [
      "0:01:09.320159\n"
     ]
    },
    {
     "name": "stderr",
     "output_type": "stream",
     "text": [
      "\n",
      "c:\\users\\ai\\appdata\\local\\programs\\python\\python38\\lib\\site-packages\\numpy\\core\\_asarray.py:136: VisibleDeprecationWarning: Creating an ndarray from ragged nested sequences (which is a list-or-tuple of lists-or-tuples-or ndarrays with different lengths or shapes) is deprecated. If you meant to do this, you must specify 'dtype=object' when creating the ndarray\n",
      "  return array(a, dtype, copy=False, order=order, subok=True)\n"
     ]
    }
   ],
   "source": [
    "# Code to start the timer to see how long it takes to extract the features\n",
    "startTime = datetime.now()\n",
    "# Applying the function to the train data by accessing each row of the dataframe\n",
    "#features_label = df.apply(extract_features, axis=1)\n",
    "\n",
    "features_label = []\n",
    "\n",
    "    \n",
    "for path in tqdm(filter_filelist_path):\n",
    "    feature = extract_features(full_path_name=path)\n",
    "    features_label.append(feature)\n",
    "    \n",
    "\n",
    "# Code to see how long it took\n",
    "print(datetime.now() - startTime)\n",
    "np.save('features_label_new', features_label)"
   ]
  },
  {
   "cell_type": "code",
   "execution_count": 17,
   "metadata": {},
   "outputs": [],
   "source": [
    "\n",
    "\n",
    "# The next code loads the saved numpy array of our extracted features\n",
    "features_label = np.load('features_label_new.npy', allow_pickle=True)\n",
    "\n"
   ]
  },
  {
   "cell_type": "code",
   "execution_count": 18,
   "metadata": {},
   "outputs": [],
   "source": [
    "# We create an empty list where we will concatenate all the features into one long feature\n",
    "# for each file to feed into our neural network \n",
    "\n",
    "features = []\n",
    "for i in range(0, len(features_label)):\n",
    "    features.append(np.concatenate((features_label[i][0], features_label[i][1], \n",
    "                features_label[i][2], features_label[i][3],\n",
    "                features_label[i][4]), axis=0))"
   ]
  },
  {
   "cell_type": "code",
   "execution_count": 19,
   "metadata": {},
   "outputs": [
    {
     "name": "stdout",
     "output_type": "stream",
     "text": [
      "83\n"
     ]
    }
   ],
   "source": [
    "n_samples =len(features)\n",
    "print(n_samples)"
   ]
  },
  {
   "cell_type": "code",
   "execution_count": 20,
   "metadata": {},
   "outputs": [],
   "source": [
    "d = {'file':X,'speaker':Y,'features':features}\n",
    "\n",
    "df = pd.DataFrame(d)"
   ]
  },
  {
   "cell_type": "code",
   "execution_count": 21,
   "metadata": {},
   "outputs": [
    {
     "data": {
      "text/html": [
       "<div>\n",
       "<style scoped>\n",
       "    .dataframe tbody tr th:only-of-type {\n",
       "        vertical-align: middle;\n",
       "    }\n",
       "\n",
       "    .dataframe tbody tr th {\n",
       "        vertical-align: top;\n",
       "    }\n",
       "\n",
       "    .dataframe thead th {\n",
       "        text-align: right;\n",
       "    }\n",
       "</style>\n",
       "<table border=\"1\" class=\"dataframe\">\n",
       "  <thead>\n",
       "    <tr style=\"text-align: right;\">\n",
       "      <th></th>\n",
       "      <th>file</th>\n",
       "      <th>speaker</th>\n",
       "      <th>features</th>\n",
       "    </tr>\n",
       "  </thead>\n",
       "  <tbody>\n",
       "    <tr>\n",
       "      <th>0</th>\n",
       "      <td>0-0.m4a</td>\n",
       "      <td>0</td>\n",
       "      <td>[-306.3504333496094, 112.0266342163086, -38.71...</td>\n",
       "    </tr>\n",
       "    <tr>\n",
       "      <th>1</th>\n",
       "      <td>0-1.m4a</td>\n",
       "      <td>0</td>\n",
       "      <td>[-307.7640686035156, 105.328857421875, -38.131...</td>\n",
       "    </tr>\n",
       "    <tr>\n",
       "      <th>2</th>\n",
       "      <td>0-10.m4a</td>\n",
       "      <td>0</td>\n",
       "      <td>[-318.2536926269531, 94.04342651367188, -32.49...</td>\n",
       "    </tr>\n",
       "    <tr>\n",
       "      <th>3</th>\n",
       "      <td>0-11.m4a</td>\n",
       "      <td>0</td>\n",
       "      <td>[-331.1217956542969, 105.3504638671875, -34.66...</td>\n",
       "    </tr>\n",
       "    <tr>\n",
       "      <th>4</th>\n",
       "      <td>0-12.m4a</td>\n",
       "      <td>0</td>\n",
       "      <td>[-300.43603515625, 104.2455825805664, -39.4971...</td>\n",
       "    </tr>\n",
       "  </tbody>\n",
       "</table>\n",
       "</div>"
      ],
      "text/plain": [
       "       file speaker                                           features\n",
       "0   0-0.m4a       0  [-306.3504333496094, 112.0266342163086, -38.71...\n",
       "1   0-1.m4a       0  [-307.7640686035156, 105.328857421875, -38.131...\n",
       "2  0-10.m4a       0  [-318.2536926269531, 94.04342651367188, -32.49...\n",
       "3  0-11.m4a       0  [-331.1217956542969, 105.3504638671875, -34.66...\n",
       "4  0-12.m4a       0  [-300.43603515625, 104.2455825805664, -39.4971..."
      ]
     },
     "execution_count": 21,
     "metadata": {},
     "output_type": "execute_result"
    }
   ],
   "source": [
    "df.head()"
   ]
  },
  {
   "cell_type": "code",
   "execution_count": 22,
   "metadata": {},
   "outputs": [],
   "source": [
    "df = df.sample(frac=1)"
   ]
  },
  {
   "cell_type": "code",
   "execution_count": 23,
   "metadata": {},
   "outputs": [
    {
     "data": {
      "text/html": [
       "<div>\n",
       "<style scoped>\n",
       "    .dataframe tbody tr th:only-of-type {\n",
       "        vertical-align: middle;\n",
       "    }\n",
       "\n",
       "    .dataframe tbody tr th {\n",
       "        vertical-align: top;\n",
       "    }\n",
       "\n",
       "    .dataframe thead th {\n",
       "        text-align: right;\n",
       "    }\n",
       "</style>\n",
       "<table border=\"1\" class=\"dataframe\">\n",
       "  <thead>\n",
       "    <tr style=\"text-align: right;\">\n",
       "      <th></th>\n",
       "      <th>file</th>\n",
       "      <th>speaker</th>\n",
       "      <th>features</th>\n",
       "    </tr>\n",
       "  </thead>\n",
       "  <tbody>\n",
       "    <tr>\n",
       "      <th>29</th>\n",
       "      <td>0-35.m4a</td>\n",
       "      <td>0</td>\n",
       "      <td>[-399.6650085449219, 153.88607788085938, 19.63...</td>\n",
       "    </tr>\n",
       "    <tr>\n",
       "      <th>82</th>\n",
       "      <td>1-9.m4a</td>\n",
       "      <td>1</td>\n",
       "      <td>[-393.195068359375, 153.51170349121094, -29.77...</td>\n",
       "    </tr>\n",
       "    <tr>\n",
       "      <th>52</th>\n",
       "      <td>1-15.m4a</td>\n",
       "      <td>1</td>\n",
       "      <td>[-271.51055908203125, 122.39016723632812, 0.99...</td>\n",
       "    </tr>\n",
       "    <tr>\n",
       "      <th>53</th>\n",
       "      <td>1-16.m4a</td>\n",
       "      <td>1</td>\n",
       "      <td>[-272.6347961425781, 129.2206573486328, -3.243...</td>\n",
       "    </tr>\n",
       "    <tr>\n",
       "      <th>8</th>\n",
       "      <td>0-16.m4a</td>\n",
       "      <td>0</td>\n",
       "      <td>[-297.35028076171875, 97.99595642089844, -28.3...</td>\n",
       "    </tr>\n",
       "  </tbody>\n",
       "</table>\n",
       "</div>"
      ],
      "text/plain": [
       "        file speaker                                           features\n",
       "29  0-35.m4a       0  [-399.6650085449219, 153.88607788085938, 19.63...\n",
       "82   1-9.m4a       1  [-393.195068359375, 153.51170349121094, -29.77...\n",
       "52  1-15.m4a       1  [-271.51055908203125, 122.39016723632812, 0.99...\n",
       "53  1-16.m4a       1  [-272.6347961425781, 129.2206573486328, -3.243...\n",
       "8   0-16.m4a       0  [-297.35028076171875, 97.99595642089844, -28.3..."
      ]
     },
     "execution_count": 23,
     "metadata": {},
     "output_type": "execute_result"
    }
   ],
   "source": [
    "df.head()"
   ]
  },
  {
   "cell_type": "code",
   "execution_count": 24,
   "metadata": {},
   "outputs": [
    {
     "name": "stdout",
     "output_type": "stream",
     "text": [
      "83\n"
     ]
    }
   ],
   "source": [
    "print(len(df))"
   ]
  },
  {
   "cell_type": "code",
   "execution_count": 25,
   "metadata": {},
   "outputs": [],
   "source": [
    "df_train = df[:70]\n",
    "#df_val = df[19:29]\n",
    "df_test = df[70:82]"
   ]
  },
  {
   "cell_type": "code",
   "execution_count": 26,
   "metadata": {},
   "outputs": [],
   "source": [
    "X = df['features']\n",
    "X = np.stack(X)\n",
    "\n",
    "Y = df['speaker']\n",
    "\n",
    "# Hot encoding y\n",
    "lb = LabelEncoder()\n",
    "Y = to_categorical(lb.fit_transform(Y))\n",
    "\n",
    "\n",
    "X_train = X[:70]\n",
    "#X_val = X[19:29]\n",
    "X_test = X[70:82]\n",
    "\n",
    "Y_train = Y[:70]\n",
    "#Y_val = Y[19:29]\n",
    "Y_test = Y[70:82]"
   ]
  },
  {
   "cell_type": "code",
   "execution_count": 27,
   "metadata": {},
   "outputs": [
    {
     "name": "stdout",
     "output_type": "stream",
     "text": [
      "[[-3.79864349e+02  1.37790497e+02 -3.04550667e+01 ... -7.96418973e-02\n",
      "   5.55635412e-02 -1.61360597e-02]\n",
      " [-3.16094238e+02  9.57059326e+01 -3.13757305e+01 ... -3.14166409e-02\n",
      "   1.13607555e-02  1.13174736e-02]\n",
      " [-2.94963654e+02  9.67057495e+01 -2.74424934e+01 ...  2.89970132e-02\n",
      "  -3.46826622e-03 -4.28168345e-03]\n",
      " ...\n",
      " [-3.63994751e+02  1.30464676e+02 -1.44263029e+00 ... -1.22169237e-01\n",
      "  -6.60771657e-04 -7.67687423e-02]\n",
      " [-3.76931000e+02  1.44995239e+02 -3.31140785e+01 ... -3.18272703e-02\n",
      "   2.59106344e-02  2.52954613e-02]\n",
      " [-3.15799133e+02  1.03779419e+02 -3.15389767e+01 ... -5.81052555e-03\n",
      "  -2.75797885e-03  6.66220682e-03]]\n"
     ]
    }
   ],
   "source": [
    "print(X_test)"
   ]
  },
  {
   "cell_type": "code",
   "execution_count": 28,
   "metadata": {},
   "outputs": [
    {
     "data": {
      "text/html": [
       "<div>\n",
       "<style scoped>\n",
       "    .dataframe tbody tr th:only-of-type {\n",
       "        vertical-align: middle;\n",
       "    }\n",
       "\n",
       "    .dataframe tbody tr th {\n",
       "        vertical-align: top;\n",
       "    }\n",
       "\n",
       "    .dataframe thead th {\n",
       "        text-align: right;\n",
       "    }\n",
       "</style>\n",
       "<table border=\"1\" class=\"dataframe\">\n",
       "  <thead>\n",
       "    <tr style=\"text-align: right;\">\n",
       "      <th></th>\n",
       "      <th>file</th>\n",
       "      <th>speaker</th>\n",
       "      <th>features</th>\n",
       "    </tr>\n",
       "  </thead>\n",
       "  <tbody>\n",
       "    <tr>\n",
       "      <th>68</th>\n",
       "      <td>1-3.m4a</td>\n",
       "      <td>1</td>\n",
       "      <td>[-379.8643493652344, 137.79049682617188, -30.4...</td>\n",
       "    </tr>\n",
       "    <tr>\n",
       "      <th>23</th>\n",
       "      <td>0-3.m4a</td>\n",
       "      <td>0</td>\n",
       "      <td>[-316.09423828125, 95.7059326171875, -31.37573...</td>\n",
       "    </tr>\n",
       "    <tr>\n",
       "      <th>11</th>\n",
       "      <td>0-19.m4a</td>\n",
       "      <td>0</td>\n",
       "      <td>[-294.9636535644531, 96.70574951171875, -27.44...</td>\n",
       "    </tr>\n",
       "    <tr>\n",
       "      <th>37</th>\n",
       "      <td>0-42.m4a</td>\n",
       "      <td>0</td>\n",
       "      <td>[-205.42398071289062, 142.49620056152344, -36....</td>\n",
       "    </tr>\n",
       "    <tr>\n",
       "      <th>14</th>\n",
       "      <td>0-21.m4a</td>\n",
       "      <td>0</td>\n",
       "      <td>[-365.93719482421875, 133.43161010742188, -5.9...</td>\n",
       "    </tr>\n",
       "  </tbody>\n",
       "</table>\n",
       "</div>"
      ],
      "text/plain": [
       "        file speaker                                           features\n",
       "68   1-3.m4a       1  [-379.8643493652344, 137.79049682617188, -30.4...\n",
       "23   0-3.m4a       0  [-316.09423828125, 95.7059326171875, -31.37573...\n",
       "11  0-19.m4a       0  [-294.9636535644531, 96.70574951171875, -27.44...\n",
       "37  0-42.m4a       0  [-205.42398071289062, 142.49620056152344, -36....\n",
       "14  0-21.m4a       0  [-365.93719482421875, 133.43161010742188, -5.9..."
      ]
     },
     "execution_count": 28,
     "metadata": {},
     "output_type": "execute_result"
    }
   ],
   "source": [
    "df_test.head()"
   ]
  },
  {
   "cell_type": "code",
   "execution_count": 29,
   "metadata": {},
   "outputs": [
    {
     "data": {
      "text/html": [
       "<div>\n",
       "<style scoped>\n",
       "    .dataframe tbody tr th:only-of-type {\n",
       "        vertical-align: middle;\n",
       "    }\n",
       "\n",
       "    .dataframe tbody tr th {\n",
       "        vertical-align: top;\n",
       "    }\n",
       "\n",
       "    .dataframe thead th {\n",
       "        text-align: right;\n",
       "    }\n",
       "</style>\n",
       "<table border=\"1\" class=\"dataframe\">\n",
       "  <thead>\n",
       "    <tr style=\"text-align: right;\">\n",
       "      <th></th>\n",
       "      <th>file</th>\n",
       "      <th>speaker</th>\n",
       "      <th>features</th>\n",
       "    </tr>\n",
       "  </thead>\n",
       "  <tbody>\n",
       "    <tr>\n",
       "      <th>68</th>\n",
       "      <td>1-3.m4a</td>\n",
       "      <td>1</td>\n",
       "      <td>[-379.8643493652344, 137.79049682617188, -30.4...</td>\n",
       "    </tr>\n",
       "    <tr>\n",
       "      <th>23</th>\n",
       "      <td>0-3.m4a</td>\n",
       "      <td>0</td>\n",
       "      <td>[-316.09423828125, 95.7059326171875, -31.37573...</td>\n",
       "    </tr>\n",
       "    <tr>\n",
       "      <th>11</th>\n",
       "      <td>0-19.m4a</td>\n",
       "      <td>0</td>\n",
       "      <td>[-294.9636535644531, 96.70574951171875, -27.44...</td>\n",
       "    </tr>\n",
       "    <tr>\n",
       "      <th>37</th>\n",
       "      <td>0-42.m4a</td>\n",
       "      <td>0</td>\n",
       "      <td>[-205.42398071289062, 142.49620056152344, -36....</td>\n",
       "    </tr>\n",
       "    <tr>\n",
       "      <th>14</th>\n",
       "      <td>0-21.m4a</td>\n",
       "      <td>0</td>\n",
       "      <td>[-365.93719482421875, 133.43161010742188, -5.9...</td>\n",
       "    </tr>\n",
       "  </tbody>\n",
       "</table>\n",
       "</div>"
      ],
      "text/plain": [
       "        file speaker                                           features\n",
       "68   1-3.m4a       1  [-379.8643493652344, 137.79049682617188, -30.4...\n",
       "23   0-3.m4a       0  [-316.09423828125, 95.7059326171875, -31.37573...\n",
       "11  0-19.m4a       0  [-294.9636535644531, 96.70574951171875, -27.44...\n",
       "37  0-42.m4a       0  [-205.42398071289062, 142.49620056152344, -36....\n",
       "14  0-21.m4a       0  [-365.93719482421875, 133.43161010742188, -5.9..."
      ]
     },
     "execution_count": 29,
     "metadata": {},
     "output_type": "execute_result"
    }
   ],
   "source": [
    "df_test.head()"
   ]
  },
  {
   "cell_type": "code",
   "execution_count": 30,
   "metadata": {},
   "outputs": [],
   "source": [
    "ss = StandardScaler()\n",
    "X_train = ss.fit_transform(X_train)\n",
    "#X_val = ss.transform(X_val)\n",
    "X_test = ss.transform(X_test)"
   ]
  },
  {
   "cell_type": "code",
   "execution_count": 31,
   "metadata": {},
   "outputs": [
    {
     "name": "stdout",
     "output_type": "stream",
     "text": [
      "[[-1.20851412  0.58766218 -0.33071309 ... -0.90322561  1.64546525\n",
      "  -0.60656183]\n",
      " [-0.32591109 -0.68771228 -0.37555632 ... -0.20072739  0.30925603\n",
      "   0.03637931]\n",
      " [-0.03345562 -0.65741279 -0.18397822 ...  0.67931945 -0.13901155\n",
      "  -0.32894124]\n",
      " ...\n",
      " [-0.98887274  0.36565287  1.08240981 ... -1.52272217 -0.05414359\n",
      "  -2.02653373]\n",
      " [-1.16791543  0.8060022  -0.46022688 ... -0.20670904  0.74908537\n",
      "   0.36373328]\n",
      " [-0.32182672 -0.44304494 -0.38350763 ...  0.17227737 -0.11754022\n",
      "  -0.07264355]]\n"
     ]
    }
   ],
   "source": [
    "print(X_test)"
   ]
  },
  {
   "cell_type": "code",
   "execution_count": 32,
   "metadata": {},
   "outputs": [],
   "source": [
    "# Build a simple dense model with early stopping with softmax for categorical classification\n",
    "# We have 115 classes \n",
    "\n",
    "model = Sequential()\n",
    "\n",
    "model.add(Dense(193, input_shape=(193,), activation = 'relu'))\n",
    "model.add(Dropout(0.1))\n",
    "\n",
    "model.add(Dense(128, activation = 'relu'))\n",
    "model.add(Dropout(0.25))  \n",
    "\n",
    "model.add(Dense(128, activation = 'relu'))\n",
    "model.add(Dropout(0.5))    \n",
    "\n",
    "model.add(Dense(2, activation = 'softmax'))\n",
    "\n",
    "model.compile(loss='categorical_crossentropy', metrics=['accuracy'], optimizer='adam')\n",
    "\n",
    "early_stop = EarlyStopping(monitor='val_loss', min_delta=0, patience=100, verbose=1, mode='auto')"
   ]
  },
  {
   "cell_type": "code",
   "execution_count": 33,
   "metadata": {},
   "outputs": [
    {
     "name": "stdout",
     "output_type": "stream",
     "text": [
      "Epoch 1/1000\n",
      "70/70 [==============================] - 0s 4ms/step - loss: 0.6183 - accuracy: 0.7857 - val_loss: 0.4816 - val_accuracy: 0.8333\n",
      "Epoch 2/1000\n",
      "70/70 [==============================] - 0s 1ms/step - loss: 0.1234 - accuracy: 0.9571 - val_loss: 0.0064 - val_accuracy: 1.0000\n",
      "Epoch 3/1000\n",
      "70/70 [==============================] - 0s 1ms/step - loss: 0.0817 - accuracy: 0.9714 - val_loss: 0.0299 - val_accuracy: 1.0000\n",
      "Epoch 4/1000\n",
      "70/70 [==============================] - 0s 1ms/step - loss: 0.0158 - accuracy: 1.0000 - val_loss: 0.2179 - val_accuracy: 0.9167\n",
      "Epoch 5/1000\n",
      "70/70 [==============================] - 0s 924us/step - loss: 0.0175 - accuracy: 1.0000 - val_loss: 0.7438 - val_accuracy: 0.9167\n",
      "Epoch 6/1000\n",
      "70/70 [==============================] - 0s 1ms/step - loss: 0.0028 - accuracy: 1.0000 - val_loss: 0.3299 - val_accuracy: 0.9167\n",
      "Epoch 7/1000\n",
      "70/70 [==============================] - 0s 1ms/step - loss: 0.0045 - accuracy: 1.0000 - val_loss: 1.0938 - val_accuracy: 0.9167\n",
      "Epoch 8/1000\n",
      "70/70 [==============================] - 0s 1ms/step - loss: 0.0242 - accuracy: 0.9857 - val_loss: 0.0353 - val_accuracy: 1.0000\n",
      "Epoch 9/1000\n",
      "70/70 [==============================] - 0s 1ms/step - loss: 6.2049e-04 - accuracy: 1.0000 - val_loss: 0.4475 - val_accuracy: 0.9167\n",
      "Epoch 10/1000\n",
      "70/70 [==============================] - 0s 1ms/step - loss: 0.0223 - accuracy: 0.9857 - val_loss: 0.3447 - val_accuracy: 0.9167\n",
      "Epoch 11/1000\n",
      "70/70 [==============================] - 0s 1ms/step - loss: 0.0414 - accuracy: 0.9857 - val_loss: 0.1140 - val_accuracy: 0.9167\n",
      "Epoch 12/1000\n",
      "70/70 [==============================] - 0s 1ms/step - loss: 0.1839 - accuracy: 0.9714 - val_loss: 0.0922 - val_accuracy: 0.9167\n",
      "Epoch 13/1000\n",
      "70/70 [==============================] - 0s 1ms/step - loss: 0.0019 - accuracy: 1.0000 - val_loss: 1.7650 - val_accuracy: 0.9167\n",
      "Epoch 14/1000\n",
      "70/70 [==============================] - 0s 1ms/step - loss: 9.7596e-04 - accuracy: 1.0000 - val_loss: 1.6391 - val_accuracy: 0.9167\n",
      "Epoch 15/1000\n",
      "70/70 [==============================] - 0s 1ms/step - loss: 3.6901e-04 - accuracy: 1.0000 - val_loss: 0.8733 - val_accuracy: 0.9167\n",
      "Epoch 16/1000\n",
      "70/70 [==============================] - 0s 1ms/step - loss: 5.1384e-04 - accuracy: 1.0000 - val_loss: 0.8646 - val_accuracy: 0.9167\n",
      "Epoch 17/1000\n",
      "70/70 [==============================] - 0s 1ms/step - loss: 2.9001e-04 - accuracy: 1.0000 - val_loss: 0.8560 - val_accuracy: 0.9167\n",
      "Epoch 18/1000\n",
      "70/70 [==============================] - 0s 1ms/step - loss: 8.6884e-05 - accuracy: 1.0000 - val_loss: 0.8666 - val_accuracy: 0.9167\n",
      "Epoch 19/1000\n",
      "70/70 [==============================] - 0s 1ms/step - loss: 1.5577e-04 - accuracy: 1.0000 - val_loss: 0.8707 - val_accuracy: 0.9167\n",
      "Epoch 20/1000\n",
      "70/70 [==============================] - 0s 1ms/step - loss: 1.2533e-04 - accuracy: 1.0000 - val_loss: 0.8613 - val_accuracy: 0.9167\n",
      "Epoch 21/1000\n",
      "70/70 [==============================] - 0s 1ms/step - loss: 2.0191e-04 - accuracy: 1.0000 - val_loss: 0.8018 - val_accuracy: 0.9167\n",
      "Epoch 22/1000\n",
      "70/70 [==============================] - 0s 1ms/step - loss: 9.0302e-05 - accuracy: 1.0000 - val_loss: 0.8222 - val_accuracy: 0.9167\n",
      "Epoch 23/1000\n",
      "70/70 [==============================] - 0s 1ms/step - loss: 1.5701e-04 - accuracy: 1.0000 - val_loss: 0.8320 - val_accuracy: 0.9167\n",
      "Epoch 24/1000\n",
      "70/70 [==============================] - 0s 1ms/step - loss: 1.7588e-04 - accuracy: 1.0000 - val_loss: 0.7968 - val_accuracy: 0.9167\n",
      "Epoch 25/1000\n",
      "70/70 [==============================] - 0s 1ms/step - loss: 1.4122e-04 - accuracy: 1.0000 - val_loss: 0.7995 - val_accuracy: 0.9167\n",
      "Epoch 26/1000\n",
      "70/70 [==============================] - 0s 1ms/step - loss: 4.8516e-05 - accuracy: 1.0000 - val_loss: 0.8038 - val_accuracy: 0.9167\n",
      "Epoch 27/1000\n",
      "70/70 [==============================] - 0s 1ms/step - loss: 2.7513e-04 - accuracy: 1.0000 - val_loss: 0.8285 - val_accuracy: 0.9167\n",
      "Epoch 28/1000\n",
      "70/70 [==============================] - 0s 1ms/step - loss: 1.1547e-05 - accuracy: 1.0000 - val_loss: 0.8298 - val_accuracy: 0.9167\n",
      "Epoch 29/1000\n",
      "70/70 [==============================] - 0s 1ms/step - loss: 5.6336e-05 - accuracy: 1.0000 - val_loss: 0.8333 - val_accuracy: 0.9167\n",
      "Epoch 30/1000\n",
      "70/70 [==============================] - 0s 1ms/step - loss: 8.6115e-04 - accuracy: 1.0000 - val_loss: 1.0989 - val_accuracy: 0.9167\n",
      "Epoch 31/1000\n",
      "70/70 [==============================] - 0s 1ms/step - loss: 1.8329e-05 - accuracy: 1.0000 - val_loss: 1.1423 - val_accuracy: 0.9167\n",
      "Epoch 32/1000\n",
      "70/70 [==============================] - 0s 1ms/step - loss: 7.1540e-05 - accuracy: 1.0000 - val_loss: 1.1405 - val_accuracy: 0.9167\n",
      "Epoch 33/1000\n",
      "70/70 [==============================] - 0s 1ms/step - loss: 7.8627e-05 - accuracy: 1.0000 - val_loss: 1.1440 - val_accuracy: 0.9167\n",
      "Epoch 34/1000\n",
      "70/70 [==============================] - 0s 1ms/step - loss: 1.2314e-04 - accuracy: 1.0000 - val_loss: 1.0034 - val_accuracy: 0.9167\n",
      "Epoch 35/1000\n",
      "70/70 [==============================] - 0s 1ms/step - loss: 1.6337e-05 - accuracy: 1.0000 - val_loss: 1.0060 - val_accuracy: 0.9167\n",
      "Epoch 36/1000\n",
      "70/70 [==============================] - 0s 1ms/step - loss: 2.0758e-04 - accuracy: 1.0000 - val_loss: 0.8645 - val_accuracy: 0.9167\n",
      "Epoch 37/1000\n",
      "70/70 [==============================] - 0s 1ms/step - loss: 1.4658e-05 - accuracy: 1.0000 - val_loss: 0.8583 - val_accuracy: 0.9167\n",
      "Epoch 38/1000\n",
      "70/70 [==============================] - 0s 1ms/step - loss: 5.3420e-05 - accuracy: 1.0000 - val_loss: 0.8295 - val_accuracy: 0.9167\n",
      "Epoch 39/1000\n",
      "70/70 [==============================] - 0s 1ms/step - loss: 1.3421e-05 - accuracy: 1.0000 - val_loss: 0.8545 - val_accuracy: 0.9167\n",
      "Epoch 40/1000\n",
      "70/70 [==============================] - 0s 1ms/step - loss: 2.4279e-05 - accuracy: 1.0000 - val_loss: 0.8813 - val_accuracy: 0.9167\n",
      "Epoch 41/1000\n",
      "70/70 [==============================] - 0s 1ms/step - loss: 2.5046e-05 - accuracy: 1.0000 - val_loss: 0.9440 - val_accuracy: 0.9167\n",
      "Epoch 42/1000\n",
      "70/70 [==============================] - 0s 1ms/step - loss: 0.0025 - accuracy: 1.0000 - val_loss: 0.9543 - val_accuracy: 0.9167\n",
      "Epoch 43/1000\n",
      "70/70 [==============================] - 0s 1ms/step - loss: 2.9920e-06 - accuracy: 1.0000 - val_loss: 0.9551 - val_accuracy: 0.9167\n",
      "Epoch 44/1000\n",
      "70/70 [==============================] - 0s 1ms/step - loss: 3.4770e-05 - accuracy: 1.0000 - val_loss: 0.9589 - val_accuracy: 0.9167\n",
      "Epoch 45/1000\n",
      "70/70 [==============================] - 0s 1ms/step - loss: 4.3185e-06 - accuracy: 1.0000 - val_loss: 0.9639 - val_accuracy: 0.9167\n",
      "Epoch 46/1000\n",
      "70/70 [==============================] - 0s 1ms/step - loss: 4.6520e-05 - accuracy: 1.0000 - val_loss: 0.9198 - val_accuracy: 0.9167\n",
      "Epoch 47/1000\n",
      "70/70 [==============================] - 0s 1ms/step - loss: 3.8928e-06 - accuracy: 1.0000 - val_loss: 0.9183 - val_accuracy: 0.9167\n",
      "Epoch 48/1000\n",
      "70/70 [==============================] - 0s 1ms/step - loss: 4.0241e-06 - accuracy: 1.0000 - val_loss: 0.9182 - val_accuracy: 0.9167\n",
      "Epoch 49/1000\n",
      "70/70 [==============================] - 0s 1ms/step - loss: 3.0164e-05 - accuracy: 1.0000 - val_loss: 1.1109 - val_accuracy: 0.9167\n",
      "Epoch 50/1000\n",
      "70/70 [==============================] - 0s 1ms/step - loss: 2.5630e-06 - accuracy: 1.0000 - val_loss: 1.1131 - val_accuracy: 0.9167\n",
      "Epoch 51/1000\n",
      "70/70 [==============================] - 0s 1ms/step - loss: 2.1417e-05 - accuracy: 1.0000 - val_loss: 1.1165 - val_accuracy: 0.9167\n",
      "Epoch 52/1000\n",
      "70/70 [==============================] - 0s 1ms/step - loss: 2.4097e-06 - accuracy: 1.0000 - val_loss: 1.1193 - val_accuracy: 0.9167\n",
      "Epoch 53/1000\n",
      "70/70 [==============================] - 0s 1ms/step - loss: 1.2605e-05 - accuracy: 1.0000 - val_loss: 1.1200 - val_accuracy: 0.9167\n",
      "Epoch 54/1000\n",
      "70/70 [==============================] - 0s 1ms/step - loss: 5.9109e-06 - accuracy: 1.0000 - val_loss: 1.1299 - val_accuracy: 0.9167\n",
      "Epoch 55/1000\n",
      "70/70 [==============================] - 0s 1ms/step - loss: 5.0869e-05 - accuracy: 1.0000 - val_loss: 0.9048 - val_accuracy: 0.9167\n",
      "Epoch 56/1000\n",
      "70/70 [==============================] - 0s 1ms/step - loss: 2.1367e-05 - accuracy: 1.0000 - val_loss: 0.9812 - val_accuracy: 0.9167\n",
      "Epoch 57/1000\n"
     ]
    },
    {
     "name": "stdout",
     "output_type": "stream",
     "text": [
      "70/70 [==============================] - 0s 1ms/step - loss: 1.3062e-06 - accuracy: 1.0000 - val_loss: 0.9818 - val_accuracy: 0.9167\n",
      "Epoch 58/1000\n",
      "70/70 [==============================] - 0s 1ms/step - loss: 5.4759e-05 - accuracy: 1.0000 - val_loss: 0.8164 - val_accuracy: 0.9167\n",
      "Epoch 59/1000\n",
      "70/70 [==============================] - 0s 1ms/step - loss: 1.9532e-06 - accuracy: 1.0000 - val_loss: 0.6268 - val_accuracy: 0.9167\n",
      "Epoch 60/1000\n",
      "70/70 [==============================] - 0s 1ms/step - loss: 4.1245e-06 - accuracy: 1.0000 - val_loss: 0.6230 - val_accuracy: 0.9167\n",
      "Epoch 61/1000\n",
      "70/70 [==============================] - 0s 1ms/step - loss: 4.8959e-05 - accuracy: 1.0000 - val_loss: 0.2333 - val_accuracy: 0.9167\n",
      "Epoch 62/1000\n",
      "70/70 [==============================] - 0s 1ms/step - loss: 6.7342e-06 - accuracy: 1.0000 - val_loss: 0.1952 - val_accuracy: 0.9167\n",
      "Epoch 63/1000\n",
      "70/70 [==============================] - 0s 1ms/step - loss: 1.1257e-06 - accuracy: 1.0000 - val_loss: 0.1987 - val_accuracy: 0.9167\n",
      "Epoch 64/1000\n",
      "70/70 [==============================] - 0s 1ms/step - loss: 8.6164e-06 - accuracy: 1.0000 - val_loss: 0.2635 - val_accuracy: 0.9167\n",
      "Epoch 65/1000\n",
      "70/70 [==============================] - 0s 1ms/step - loss: 1.8887e-05 - accuracy: 1.0000 - val_loss: 0.2890 - val_accuracy: 0.9167\n",
      "Epoch 66/1000\n",
      "70/70 [==============================] - 0s 1ms/step - loss: 3.9916e-06 - accuracy: 1.0000 - val_loss: 0.2973 - val_accuracy: 0.9167\n",
      "Epoch 67/1000\n",
      "70/70 [==============================] - 0s 1ms/step - loss: 1.2432e-06 - accuracy: 1.0000 - val_loss: 0.2981 - val_accuracy: 0.9167\n",
      "Epoch 68/1000\n",
      "70/70 [==============================] - 0s 1ms/step - loss: 2.5475e-05 - accuracy: 1.0000 - val_loss: 0.3007 - val_accuracy: 0.9167\n",
      "Epoch 69/1000\n",
      "70/70 [==============================] - 0s 1ms/step - loss: 2.8440e-07 - accuracy: 1.0000 - val_loss: 0.3018 - val_accuracy: 0.9167\n",
      "Epoch 70/1000\n",
      "70/70 [==============================] - 0s 1ms/step - loss: 7.7207e-06 - accuracy: 1.0000 - val_loss: 0.3097 - val_accuracy: 0.9167\n",
      "Epoch 71/1000\n",
      "70/70 [==============================] - 0s 1ms/step - loss: 9.3631e-06 - accuracy: 1.0000 - val_loss: 0.3961 - val_accuracy: 0.9167\n",
      "Epoch 72/1000\n",
      "70/70 [==============================] - 0s 1ms/step - loss: 1.6331e-06 - accuracy: 1.0000 - val_loss: 0.4046 - val_accuracy: 0.9167\n",
      "Epoch 73/1000\n",
      "70/70 [==============================] - 0s 1ms/step - loss: 7.2977e-06 - accuracy: 1.0000 - val_loss: 0.4484 - val_accuracy: 0.9167\n",
      "Epoch 74/1000\n",
      "70/70 [==============================] - 0s 1ms/step - loss: 2.6275e-06 - accuracy: 1.0000 - val_loss: 0.4630 - val_accuracy: 0.9167\n",
      "Epoch 75/1000\n",
      "70/70 [==============================] - 0s 1ms/step - loss: 4.4716e-06 - accuracy: 1.0000 - val_loss: 0.4734 - val_accuracy: 0.9167\n",
      "Epoch 76/1000\n",
      "70/70 [==============================] - 0s 1ms/step - loss: 1.2568e-06 - accuracy: 1.0000 - val_loss: 0.4745 - val_accuracy: 0.9167\n",
      "Epoch 77/1000\n",
      "70/70 [==============================] - 0s 1ms/step - loss: 3.3003e-06 - accuracy: 1.0000 - val_loss: 0.4578 - val_accuracy: 0.9167\n",
      "Epoch 78/1000\n",
      "70/70 [==============================] - 0s 1ms/step - loss: 1.9805e-06 - accuracy: 1.0000 - val_loss: 0.4828 - val_accuracy: 0.9167\n",
      "Epoch 79/1000\n",
      "70/70 [==============================] - 0s 1ms/step - loss: 1.1887e-06 - accuracy: 1.0000 - val_loss: 0.4907 - val_accuracy: 0.9167\n",
      "Epoch 80/1000\n",
      "70/70 [==============================] - 0s 1ms/step - loss: 2.1969e-07 - accuracy: 1.0000 - val_loss: 0.4926 - val_accuracy: 0.9167\n",
      "Epoch 81/1000\n",
      "70/70 [==============================] - 0s 1ms/step - loss: 4.0531e-07 - accuracy: 1.0000 - val_loss: 0.4933 - val_accuracy: 0.9167\n",
      "Epoch 82/1000\n",
      "70/70 [==============================] - 0s 1ms/step - loss: 1.5310e-06 - accuracy: 1.0000 - val_loss: 0.4958 - val_accuracy: 0.9167\n",
      "Epoch 83/1000\n",
      "70/70 [==============================] - 0s 1ms/step - loss: 1.4254e-06 - accuracy: 1.0000 - val_loss: 0.4981 - val_accuracy: 0.9167\n",
      "Epoch 84/1000\n",
      "70/70 [==============================] - 0s 1ms/step - loss: 1.1018e-06 - accuracy: 1.0000 - val_loss: 0.5203 - val_accuracy: 0.9167\n",
      "Epoch 85/1000\n",
      "70/70 [==============================] - 0s 1ms/step - loss: 8.1743e-07 - accuracy: 1.0000 - val_loss: 0.5215 - val_accuracy: 0.9167\n",
      "Epoch 86/1000\n",
      "70/70 [==============================] - 0s 1ms/step - loss: 6.1366e-06 - accuracy: 1.0000 - val_loss: 0.4968 - val_accuracy: 0.9167\n",
      "Epoch 87/1000\n",
      "70/70 [==============================] - 0s 1ms/step - loss: 8.0550e-07 - accuracy: 1.0000 - val_loss: 0.5004 - val_accuracy: 0.9167\n",
      "Epoch 88/1000\n",
      "70/70 [==============================] - 0s 1ms/step - loss: 1.4986e-07 - accuracy: 1.0000 - val_loss: 0.5007 - val_accuracy: 0.9167\n",
      "Epoch 89/1000\n",
      "70/70 [==============================] - 0s 1ms/step - loss: 4.3766e-07 - accuracy: 1.0000 - val_loss: 0.5073 - val_accuracy: 0.9167\n",
      "Epoch 90/1000\n",
      "70/70 [==============================] - 0s 1ms/step - loss: 8.8043e-07 - accuracy: 1.0000 - val_loss: 0.4870 - val_accuracy: 0.9167\n",
      "Epoch 91/1000\n",
      "70/70 [==============================] - 0s 1ms/step - loss: 3.5931e-06 - accuracy: 1.0000 - val_loss: 0.5068 - val_accuracy: 0.9167\n",
      "Epoch 92/1000\n",
      "70/70 [==============================] - 0s 1ms/step - loss: 3.6855e-05 - accuracy: 1.0000 - val_loss: 0.6630 - val_accuracy: 0.9167\n",
      "Epoch 93/1000\n",
      "70/70 [==============================] - 0s 1ms/step - loss: 8.5014e-06 - accuracy: 1.0000 - val_loss: 0.7697 - val_accuracy: 0.9167\n",
      "Epoch 94/1000\n",
      "70/70 [==============================] - 0s 1ms/step - loss: 5.1353e-06 - accuracy: 1.0000 - val_loss: 0.7263 - val_accuracy: 0.9167\n",
      "Epoch 95/1000\n",
      "70/70 [==============================] - 0s 1ms/step - loss: 7.6974e-07 - accuracy: 1.0000 - val_loss: 0.7793 - val_accuracy: 0.9167\n",
      "Epoch 96/1000\n",
      "70/70 [==============================] - 0s 1ms/step - loss: 2.0095e-07 - accuracy: 1.0000 - val_loss: 0.7812 - val_accuracy: 0.9167\n",
      "Epoch 97/1000\n",
      "70/70 [==============================] - 0s 1ms/step - loss: 7.6943e-06 - accuracy: 1.0000 - val_loss: 0.7803 - val_accuracy: 0.9167\n",
      "Epoch 98/1000\n",
      "70/70 [==============================] - 0s 1ms/step - loss: 5.3303e-07 - accuracy: 1.0000 - val_loss: 0.7943 - val_accuracy: 0.9167\n",
      "Epoch 99/1000\n",
      "70/70 [==============================] - 0s 1ms/step - loss: 3.0143e-07 - accuracy: 1.0000 - val_loss: 0.8040 - val_accuracy: 0.9167\n",
      "Epoch 100/1000\n",
      "70/70 [==============================] - 0s 1ms/step - loss: 1.1921e-08 - accuracy: 1.0000 - val_loss: 0.8046 - val_accuracy: 0.9167\n",
      "Epoch 101/1000\n",
      "70/70 [==============================] - 0s 1ms/step - loss: 2.5340e-06 - accuracy: 1.0000 - val_loss: 0.6628 - val_accuracy: 0.9167\n",
      "Epoch 102/1000\n",
      "70/70 [==============================] - 0s 1ms/step - loss: 4.7343e-07 - accuracy: 1.0000 - val_loss: 0.6868 - val_accuracy: 0.9167\n",
      "Epoch 00102: early stopping\n"
     ]
    }
   ],
   "source": [
    "# fitting the model with the train data and validation with the validation data\n",
    "# we used early stop with patience 100 because we did not want to use early stop\n",
    "# I leave the early stop regularization code in case anyone wants to use it\n",
    "\n",
    "history = model.fit(X_train, Y_train, batch_size=1, epochs=1000, \n",
    "                    validation_data=(X_test, Y_test),\n",
    "                    callbacks=[early_stop])"
   ]
  },
  {
   "cell_type": "code",
   "execution_count": 34,
   "metadata": {},
   "outputs": [
    {
     "data": {
      "image/png": "[encoded data removed]",
      "text/plain": [
       "<Figure size 864x576 with 1 Axes>"
      ]
     },
     "metadata": {
      "needs_background": "light"
     },
     "output_type": "display_data"
    }
   ],
   "source": [
    "# Check out our train accuracy and validation accuracy over epochs.\n",
    "train_accuracy = history.history['accuracy']\n",
    "val_accuracy = history.history['val_accuracy']\n",
    "\n",
    "# Set figure size.\n",
    "plt.figure(figsize=(12, 8))\n",
    "\n",
    "# Generate line plot of training, testing loss over epochs.\n",
    "plt.plot(train_accuracy, label='Training Accuracy', color='#185fad')\n",
    "plt.plot(val_accuracy, label='Validation Accuracy', color='orange')\n",
    "\n",
    "# Set title\n",
    "plt.title('Training and Validation Accuracy by Epoch', fontsize = 25)\n",
    "plt.xlabel('Epoch', fontsize = 18)\n",
    "plt.ylabel('Categorical Crossentropy', fontsize = 18)\n",
    "plt.xticks(range(0,100,10))\n",
    "\n",
    "plt.legend(fontsize = 18);"
   ]
  },
  {
   "cell_type": "code",
   "execution_count": 35,
   "metadata": {},
   "outputs": [
    {
     "name": "stdout",
     "output_type": "stream",
     "text": [
      "WARNING:tensorflow:From <ipython-input-35-ecdc49af5510>:2: Sequential.predict_classes (from tensorflow.python.keras.engine.sequential) is deprecated and will be removed after 2021-01-01.\n",
      "Instructions for updating:\n",
      "Please use instead:* `np.argmax(model.predict(x), axis=-1)`,   if your model does multi-class classification   (e.g. if it uses a `softmax` last-layer activation).* `(model.predict(x) > 0.5).astype(\"int32\")`,   if your model does binary classification   (e.g. if it uses a `sigmoid` last-layer activation).\n",
      "['1' '0' '0' '1' '0' '0' '1' '0' '0' '0' '1' '0']\n"
     ]
    }
   ],
   "source": [
    "# We get our predictions from the test data\n",
    "preds = model.predict_classes(X_test)\n",
    "# We transform back our predictions to the speakers ids\n",
    "preds = lb.inverse_transform(preds)\n",
    "print(preds)"
   ]
  },
  {
   "cell_type": "code",
   "execution_count": 36,
   "metadata": {},
   "outputs": [
    {
     "name": "stdout",
     "output_type": "stream",
     "text": [
      "1\n",
      "0\n",
      "0\n",
      "0\n",
      "0\n",
      "0\n",
      "1\n",
      "0\n",
      "0\n",
      "0\n",
      "1\n",
      "0\n"
     ]
    }
   ],
   "source": [
    "for x in df_test['speaker']:\n",
    "    print(x)"
   ]
  },
  {
   "cell_type": "code",
   "execution_count": 37,
   "metadata": {},
   "outputs": [
    {
     "name": "stderr",
     "output_type": "stream",
     "text": [
      "<ipython-input-37-688a276dff93>:5: SettingWithCopyWarning: \n",
      "A value is trying to be set on a copy of a slice from a DataFrame.\n",
      "Try using .loc[row_indexer,col_indexer] = value instead\n",
      "\n",
      "See the caveats in the documentation: https://pandas.pydata.org/pandas-docs/stable/user_guide/indexing.html#returning-a-view-versus-a-copy\n",
      "  df_test['preds'] = preds\n"
     ]
    },
    {
     "data": {
      "text/html": [
       "<div>\n",
       "<style scoped>\n",
       "    .dataframe tbody tr th:only-of-type {\n",
       "        vertical-align: middle;\n",
       "    }\n",
       "\n",
       "    .dataframe tbody tr th {\n",
       "        vertical-align: top;\n",
       "    }\n",
       "\n",
       "    .dataframe thead th {\n",
       "        text-align: right;\n",
       "    }\n",
       "</style>\n",
       "<table border=\"1\" class=\"dataframe\">\n",
       "  <thead>\n",
       "    <tr style=\"text-align: right;\">\n",
       "      <th></th>\n",
       "      <th>file</th>\n",
       "      <th>speaker</th>\n",
       "      <th>features</th>\n",
       "      <th>preds</th>\n",
       "    </tr>\n",
       "  </thead>\n",
       "  <tbody>\n",
       "    <tr>\n",
       "      <th>68</th>\n",
       "      <td>1-3.m4a</td>\n",
       "      <td>1</td>\n",
       "      <td>[-379.8643493652344, 137.79049682617188, -30.4...</td>\n",
       "      <td>1</td>\n",
       "    </tr>\n",
       "    <tr>\n",
       "      <th>23</th>\n",
       "      <td>0-3.m4a</td>\n",
       "      <td>0</td>\n",
       "      <td>[-316.09423828125, 95.7059326171875, -31.37573...</td>\n",
       "      <td>0</td>\n",
       "    </tr>\n",
       "    <tr>\n",
       "      <th>11</th>\n",
       "      <td>0-19.m4a</td>\n",
       "      <td>0</td>\n",
       "      <td>[-294.9636535644531, 96.70574951171875, -27.44...</td>\n",
       "      <td>0</td>\n",
       "    </tr>\n",
       "    <tr>\n",
       "      <th>37</th>\n",
       "      <td>0-42.m4a</td>\n",
       "      <td>0</td>\n",
       "      <td>[-205.42398071289062, 142.49620056152344, -36....</td>\n",
       "      <td>1</td>\n",
       "    </tr>\n",
       "    <tr>\n",
       "      <th>14</th>\n",
       "      <td>0-21.m4a</td>\n",
       "      <td>0</td>\n",
       "      <td>[-365.93719482421875, 133.43161010742188, -5.9...</td>\n",
       "      <td>0</td>\n",
       "    </tr>\n",
       "  </tbody>\n",
       "</table>\n",
       "</div>"
      ],
      "text/plain": [
       "        file speaker                                           features preds\n",
       "68   1-3.m4a       1  [-379.8643493652344, 137.79049682617188, -30.4...     1\n",
       "23   0-3.m4a       0  [-316.09423828125, 95.7059326171875, -31.37573...     0\n",
       "11  0-19.m4a       0  [-294.9636535644531, 96.70574951171875, -27.44...     0\n",
       "37  0-42.m4a       0  [-205.42398071289062, 142.49620056152344, -36....     1\n",
       "14  0-21.m4a       0  [-365.93719482421875, 133.43161010742188, -5.9...     0"
      ]
     },
     "execution_count": 37,
     "metadata": {},
     "output_type": "execute_result"
    }
   ],
   "source": [
    "# We get our predictions from the test data\n",
    "preds = model.predict_classes(X_test)\n",
    "# We transform back our predictions to the speakers ids\n",
    "preds = lb.inverse_transform(preds)\n",
    "df_test['preds'] = preds\n",
    "df_test.head()"
   ]
  },
  {
   "cell_type": "markdown",
   "metadata": {},
   "source": [
    "## Testing one input @ time"
   ]
  },
  {
   "cell_type": "code",
   "execution_count": 38,
   "metadata": {},
   "outputs": [
    {
     "name": "stdout",
     "output_type": "stream",
     "text": [
      "[[-1.20851412  0.58766218 -0.33071309  0.56109366  0.53725963 -0.01016024\n",
      "   0.48598305  1.60918176  0.21657698  1.35186608 -0.77689803  0.84569826\n",
      "  -0.283048    0.66583789 -1.00027128  0.18103661  0.87765224 -0.33293769\n",
      "   0.48668906  0.46718562  1.29142855  0.94342003  1.02995041 -0.02035887\n",
      "   1.17702768  0.46396951  0.71198312  0.47216732 -0.17869285  0.7896322\n",
      "   0.59617677  0.15695754  0.45047608  0.4380712   0.60364706  0.05900817\n",
      "   0.76557518  0.64121699 -0.33487294 -0.49743745  0.87595749  1.10138022\n",
      "   1.10612395  0.91036135  0.93902909  1.15113477  0.99134156  0.83243503\n",
      "   1.13898143  1.22478897  2.05494158  1.15943401 -0.3932996  -0.50445795\n",
      "  -0.47891887 -0.6194793  -0.75577091 -0.82785271 -1.07813415 -0.60792989\n",
      "  -0.73767228 -0.57124124 -0.73218028 -0.62787365 -0.65813524 -0.54367842\n",
      "  -0.50316044 -0.65788787 -0.64773948 -0.76414119 -0.56234433 -0.62926485\n",
      "  -0.70081613 -0.90151129 -0.84160182 -0.4008764  -0.41497495 -0.76113128\n",
      "  -0.76635001 -0.87337698 -0.88066853 -0.87706548 -0.90251229 -0.78288838\n",
      "  -0.64133015 -0.15090469 -0.21267786 -0.40699897 -0.28495818 -0.48650264\n",
      "  -0.88422472 -0.84199017 -0.79521173 -0.80153046 -0.91951297 -0.8726543\n",
      "  -0.71763374 -0.29966911 -0.42884548 -0.69201044 -0.78678877 -0.85733268\n",
      "  -0.74289131 -0.69900635 -0.63504292 -0.63618408 -0.62497204 -0.61194699\n",
      "  -0.64108243 -0.60123236 -0.71231977 -0.63674136 -0.4827223  -0.61053625\n",
      "  -0.73078979 -0.71608104 -0.57741591 -0.50043111 -0.71497187 -0.54043446\n",
      "  -0.56610627 -0.61596209 -0.23125241 -0.32746612 -0.29705764 -0.53130744\n",
      "  -0.71729484 -0.72716912 -0.66399272 -0.58630958 -0.77257831 -0.64244305\n",
      "  -0.47258918 -0.64180725 -0.61703639 -0.66186631 -0.65738253 -0.61747412\n",
      "  -0.7217206  -0.65306382 -0.65632176 -0.66575301 -0.67433888 -0.78401832\n",
      "  -0.5336027  -0.70883175 -0.62423695 -0.71252782 -0.66225036 -0.72181318\n",
      "  -0.6001974  -0.58190527 -0.49665288 -0.56720101 -0.52373731 -0.46478066\n",
      "  -0.40038049 -0.36334925 -0.28472256 -0.29439232 -0.28360185 -0.28632388\n",
      "  -0.25207735 -0.20407173 -0.3130509  -0.30768327 -0.21760764 -0.17581327\n",
      "  -0.18206981 -0.18865288 -0.19859207 -0.18630707 -0.14662754 -0.13128056\n",
      "  -0.13246394 -0.12867432 -0.12818426 -0.13477107 -0.16754601 -0.17054626\n",
      "  -0.60695217 -0.49208384 -1.01117204 -0.80039583 -1.43437557  0.01595051\n",
      "  -1.32305817 -0.41428271  1.63717931  0.33386845 -0.90322561  1.64546525\n",
      "  -0.60656183]]\n",
      "['1']\n"
     ]
    }
   ],
   "source": [
    "single_test = X_test[0]\n",
    "single_test = single_test.reshape(1,-1)\n",
    "print(single_test)\n",
    "# We get our predictions from the test data\n",
    "pred = model.predict_classes(single_test)\n",
    "# We transform back our predictions to the speakers ids\n",
    "pred = lb.inverse_transform(pred)\n",
    "print(pred)"
   ]
  },
  {
   "cell_type": "markdown",
   "metadata": {},
   "source": [
    "# code from reading the voice clip to the prediction"
   ]
  },
  {
   "cell_type": "code",
   "execution_count": 43,
   "metadata": {},
   "outputs": [
    {
     "name": "stderr",
     "output_type": "stream",
     "text": [
      "c:\\users\\ai\\appdata\\local\\programs\\python\\python38\\lib\\site-packages\\librosa\\core\\audio.py:162: UserWarning: PySoundFile failed. Trying audioread instead.\n",
      "  warnings.warn(\"PySoundFile failed. Trying audioread instead.\")\n"
     ]
    },
    {
     "name": "stdout",
     "output_type": "stream",
     "text": [
      "['1']\n"
     ]
    }
   ],
   "source": [
    "\n",
    "# The next code loads the saved numpy array of our extracted features\n",
    "features_label = np.load('features_label_new.npy', allow_pickle=True)\n",
    "\n",
    "features = []\n",
    "for i in range(0, len(features_label)):\n",
    "    features.append(np.concatenate((features_label[i][0], features_label[i][1], \n",
    "                features_label[i][2], features_label[i][3],\n",
    "                features_label[i][4]), axis=0))\n",
    "\n",
    "\n",
    "\n",
    "# C:\\\\Users\\\\AI\\\\Documents\\\\Sound recordings\\\\recording.m4a -> 1\n",
    "# C:\\\\Users\\\\AI\\\\Desktop\\\\Voice Classification\\\\Data\\\\LibriSpeech\\\\train-clean-100\\\\298\\\\126790\\\\298-126790-0005.flac -> 0\n",
    "# D:\\rec\\data\\0\\0-0.m4a\n",
    "#full_path_name = \"C:\\\\Users\\\\AI\\\\Documents\\\\Sound recordings\\\\recording (6).m4a\"\n",
    "full_path_name = \"C:\\\\Users\\\\AI\\\\Desktop\\\\Voice Classification\\\\Data\\\\LibriSpeech\\\\train-clean-100\\\\298\\\\126790\\\\298-126790-0005.flac\"\n",
    "feature1 = extract_features(full_path_name)\n",
    "features1 = []\n",
    "features1.append(np.concatenate((feature1[0], feature1[1], \n",
    "                feature1[2], feature1[3],\n",
    "                feature1[4]), axis=0))\n",
    "\n",
    "ss = StandardScaler()\n",
    "ss.fit(features)\n",
    "x_norm = ss.transform(features1)\n",
    "\n",
    "# We get our predictions\n",
    "pred = model.predict_classes(x_norm)\n",
    "pred = lb.inverse_transform(pred)\n",
    "print(pred)"
   ]
  },
  {
   "cell_type": "code",
   "execution_count": 40,
   "metadata": {},
   "outputs": [
    {
     "name": "stdout",
     "output_type": "stream",
     "text": [
      "[[1.6409312e-19 1.0000000e+00]]\n"
     ]
    }
   ],
   "source": [
    "# We get our predictions\n",
    "pred = model.predict(x_norm)\n",
    "#pred = lb.inverse_transform(pred)\n",
    "print(pred)"
   ]
  },
  {
   "cell_type": "code",
   "execution_count": null,
   "metadata": {},
   "outputs": [],
   "source": []
  },
  {
   "cell_type": "code",
   "execution_count": null,
   "metadata": {},
   "outputs": [],
   "source": []
  },
  {
   "cell_type": "code",
   "execution_count": null,
   "metadata": {},
   "outputs": [],
   "source": []
  }
 ],
 "metadata": {
  "kernelspec": {
   "display_name": "Python 3",
   "language": "python",
   "name": "python3"
  },
  "language_info": {
   "codemirror_mode": {
    "name": "ipython",
    "version": 3
   },
   "file_extension": ".py",
   "mimetype": "text/x-python",
   "name": "python",
   "nbconvert_exporter": "python",
   "pygments_lexer": "ipython3",
   "version": "3.8.4"
  }
 },
 "nbformat": 4,
 "nbformat_minor": 4
}
